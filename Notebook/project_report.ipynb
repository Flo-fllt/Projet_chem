{
 "cells": [
  {
   "cell_type": "markdown",
   "id": "9de30897",
   "metadata": {},
   "source": [
    "<div style=\"background-color: #f0efec; color: #1e3a5f; padding: 20px; border-radius: 10px; font-family: sans-serif;\">\n",
    "\n",
    "<div style=\"text-align: center;\">\n",
    "  <img src=\"../Images/logo.png\" alt=\"RetroChem Logo\" style=\"max-width: 100%; height: auto;\">\n",
    "</div>\n",
    "\n",
    "# Introduction \n",
    "\n",
    "The following Jupyter notebook briefly presents RetroChem, a pip-installable Python package designed for retrosynthetic analysis. This package was developed to assist chemists and chemical engineers in predicting possible synthetic pathways for target molecules, using a machine learning model trained on the USPTO_50K database. Retrosynthesis is a central concept in organic chemistry, enabling the design of efficient synthetic routes by working backward from the desired product.\n",
    "\n",
    "This package was created as a collaborative project for the EPFL course Practical Programming in Chemistry. [![GitHub3](https://img.shields.io/badge/EPFL-CH200-red.svg)](https://edu.epfl.ch/studyplan/en/bachelor/chemistry-and-chemical-engineering/coursebook/practical-programming-in-chemistry-CH-200)\n",
    "\n",
    "Before diving into the code and functionalities of the package, let’s briefly explore the motivations and core concepts that shaped its development.\n",
    "\n",
    "# How Retrochem came to mind\n",
    "\n",
    "\n",
    "\n"
   ]
  }
 ],
 "metadata": {
  "kernelspec": {
   "display_name": "RetroChem",
   "language": "python",
   "name": "python3"
  },
  "language_info": {
   "codemirror_mode": {
    "name": "ipython",
    "version": 3
   },
   "file_extension": ".py",
   "mimetype": "text/x-python",
   "name": "python",
   "nbconvert_exporter": "python",
   "pygments_lexer": "ipython3",
   "version": "3.13.2"
  }
 },
 "nbformat": 4,
 "nbformat_minor": 5
}
