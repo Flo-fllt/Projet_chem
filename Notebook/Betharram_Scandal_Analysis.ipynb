{
 "cells": [
  {
   "cell_type": "markdown",
   "id": "8fe19ae1",
   "metadata": {},
   "source": [
    "# Understanding Scandal Formation Through the Bétharram Affair\n",
    "\n",
    "This notebook explores how scandals evolve from isolated incidents to national controversies using the theoretical framework studied in class. While the *Affaire Bétharram* is used as a case example—either hypothetical or real—it illustrates the mechanics of scandal escalation: from media involvement to public defections, legal interplay, and moral narratives.\n",
    "\n",
    "Key concepts include:\n",
    "- Desectorization (blurring of social boundaries)\n",
    "- Credible accusations and insider defections\n",
    "- Media framing\n",
    "- Moral symbolism"
   ]
  },
  {
   "cell_type": "markdown",
   "id": "06682155",
   "metadata": {},
   "source": [
    "## What Is a Scandal?\n",
    "\n",
    "According to sociologist Michel Dobry, scandals are not just about wrongdoing; they result from how events spread across different social \"sectors\"—law, politics, media, and public opinion.\n",
    "\n",
    "### Key Concepts:\n",
    "- **Desectorization**: Legal and political spheres overlap.\n",
    "- **Credibility**: Whistleblowers and insider information validate claims.\n",
    "- **Media's Role**: Not just reporting but framing, amplifying, and moralizing.\n",
    "- **Symbolism**: Scandals reflect deeper societal concerns like trust, power, and justice."
   ]
  },
  {
   "cell_type": "markdown",
   "id": "5604fcbd",
   "metadata": {},
   "source": [
    "## Case Analysis: Bétharram Affair\n",
    "\n",
    "Though not deeply covered in course material, the Bétharram affair fits the general scandal pattern.\n",
    "\n",
    "- If insiders leaked information (e.g., abuse in a religious institution), credibility rises.\n",
    "- Media coverage shapes the narrative: is it a tabloid story or a national concern?\n",
    "- If political or institutional actors respond, the case becomes a broader public issue.\n",
    "- Public reactions (demonstrations, online campaigns) signify moral engagement.\n",
    "\n",
    "Sources:\n",
    "- Le Monde chronology of events (March 2025)\n",
    "- RTS radio coverage (April 2025)"
   ]
  },
  {
   "cell_type": "code",
   "execution_count": null,
   "id": "9ce6bedc",
   "metadata": {},
   "outputs": [],
   "source": [
    "import numpy as np\n",
    "import matplotlib.pyplot as plt\n",
    "\n",
    "# Factors influencing scandal growth (arbitrary values for simulation)\n",
    "time = np.arange(0, 30)  # 30 days\n",
    "media_impact = np.exp(0.08 * time)\n",
    "political_reaction = np.piecewise(time, [time < 10, time >= 10], [1, lambda t: 1 + 0.1*(t-10)])\n",
    "public_interest = np.sin(0.2 * time) + 1.5\n",
    "\n",
    "# Scandal intensity as a weighted combination\n",
    "scandal_growth = 0.5 * media_impact + 0.3 * political_reaction + 0.2 * public_interest\n",
    "\n",
    "# Plotting\n",
    "plt.figure(figsize=(10,6))\n",
    "plt.plot(time, scandal_growth, label='Scandal Intensity', color='crimson')\n",
    "plt.xlabel('Days Since Initial Allegation')\n",
    "plt.ylabel('Scandal Intensity (Simulated)')\n",
    "plt.title('Simulated Escalation of a Scandal Over Time')\n",
    "plt.legend()\n",
    "plt.grid(True)\n",
    "plt.show()"
   ]
  },
  {
   "cell_type": "code",
   "execution_count": null,
   "id": "40fb03b1",
   "metadata": {},
   "outputs": [],
   "source": [
    "actors = ['Media', 'Judiciary', 'Whistleblowers', 'Politicians', 'Public']\n",
    "influence_scores = [8, 6, 7, 5, 9]\n",
    "\n",
    "plt.figure(figsize=(8,5))\n",
    "plt.bar(actors, influence_scores, color='teal')\n",
    "plt.title('Perceived Influence of Actors in Scandal Escalation')\n",
    "plt.ylabel('Influence Score (1–10)')\n",
    "plt.grid(axis='y')\n",
    "plt.show()"
   ]
  },
  {
   "cell_type": "markdown",
   "id": "15737608",
   "metadata": {},
   "source": [
    "## Discussion: Beyond the Facts\n",
    "\n",
    "Scandals are not just about individuals—they often symbolize institutional failure or moral decline. If the Bétharram case involved abuse, neglect, or cover-ups, it could highlight larger issues:\n",
    "\n",
    "- Trust in religious institutions\n",
    "- Government responsiveness\n",
    "- Media ethics\n",
    "- Victim protection and justice\n",
    "\n",
    "Parallels:\n",
    "- **Watergate**: Political cover-up and media exposure.\n",
    "- **Mani Pulite**: Systemic corruption leading to mass political fallout.\n",
    "- **Church abuse scandals**: Erosion of institutional credibility."
   ]
  },
  {
   "cell_type": "markdown",
   "id": "b9c58fb0",
   "metadata": {},
   "source": [
    "## Conclusion\n",
    "\n",
    "The Bétharram Affair—real or hypothetical—serves as a useful example to understand how scandals unfold. A combination of credible accusations, media framing, institutional reactions, and public response shapes whether an issue remains local or erupts nationally.\n",
    "\n",
    "Understanding this complexity helps us:\n",
    "- Anticipate the trajectory of emerging scandals\n",
    "- Evaluate the role of institutions\n",
    "- Reflect on broader moral and political implications"
   ]
  }
 ],
 "metadata": {
  "language_info": {
   "name": "python"
  }
 },
 "nbformat": 4,
 "nbformat_minor": 5
}
