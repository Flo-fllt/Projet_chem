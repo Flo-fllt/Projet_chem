{
 "cells": [
  {
   "cell_type": "code",
   "execution_count": 6,
   "metadata": {},
   "outputs": [
    {
     "name": "stdout",
     "output_type": "stream",
     "text": [
      "Predicted Reaction Template: [C:4]-[#8:5]-[C:6](=[O;D1;H0:7])-[c:8]1:[c:9]:[c:10]:[c:11]:[c:12]:[c:13]:1-[N;H0;D2;+0:14]=[C;H0;D3;+0:1](-[C;D1;H3:2])-[c:3]>>O=[C;H0;D3;+0:1](-[C;D1;H3:2])-[c:3].[C:4]-[#8:5]-[C:6](=[O;D1;H0:7])-[c:8]1:[c:9]:[c:10]:[c:11]:[c:12]:[c:13]:1-[NH2;D1;+0:14]\n"
     ]
    },
    {
     "name": "stderr",
     "output_type": "stream",
     "text": [
      "[14:29:40] DEPRECATION WARNING: please use MorganGenerator\n"
     ]
    }
   ],
   "source": [
    "import pandas as pd\n",
    "import numpy as np\n",
    "import joblib  # << use joblib instead of pickle\n",
    "from rdkit import Chem\n",
    "from rdkit import DataStructs  # << missing in your version\n",
    "from rdkit.Chem import AllChem\n",
    "from sklearn.preprocessing import StandardScaler\n",
    "from sklearn.neural_network import MLPClassifier\n",
    "\n",
    "# Load the scaler and model\n",
    "scaler = joblib.load('scaler.pkl')\n",
    "model = joblib.load('mlp_classifier_model.pkl')\n",
    "\n",
    "# Function to compute Morgan fingerprint from SMILES\n",
    "def smiles_to_fingerprint(smiles, radius=2, n_bits=2048):\n",
    "    mol = Chem.MolFromSmiles(smiles)\n",
    "    if mol is None:\n",
    "        raise ValueError(\"Invalid SMILES string\")\n",
    "    fp = AllChem.GetMorganFingerprintAsBitVect(mol, radius, nBits=n_bits)\n",
    "    arr = np.zeros((1,), dtype=int)\n",
    "    DataStructs.ConvertToNumpyArray(fp, arr)\n",
    "    return arr\n",
    "\n",
    "# Load the reaction templates\n",
    "file_path = \"/Users/giuliogarotti/Documents/GitHub/Projet_chem/uspto50/uspto50/reaction_templates_50k_train.csv\"\n",
    "templates_df = pd.read_csv(file_path, sep='\\t')\n",
    "\n",
    "# Predict function\n",
    "def predict_reaction(smiles):\n",
    "    # Step 1: Convert SMILES to fingerprint\n",
    "    fingerprint = smiles_to_fingerprint(smiles)\n",
    "    fingerprint = fingerprint.reshape(1, -1)\n",
    "\n",
    "    # Step 2: Scale the fingerprint\n",
    "    fingerprint_scaled = scaler.transform(fingerprint)\n",
    "\n",
    "    # Step 3: Predict the reaction class (actually a template ID string)\n",
    "    predicted_id = model.predict(fingerprint_scaled)[0]\n",
    "\n",
    "    # Step 4: Map predicted ID to reaction template\n",
    "    row = templates_df[templates_df['TemplateHash'] == predicted_id]\n",
    "    if not row.empty:\n",
    "        predicted_template = row.iloc[0]['RetroTemplate']\n",
    "    else:\n",
    "        raise ValueError(f\"Predicted ID {predicted_id} not found in templates.\")\n",
    "\n",
    "\n",
    "    return predicted_template\n",
    "\n",
    "\n",
    "if __name__ == \"__main__\":\n",
    "    smiles_input = input(\"Enter a SMILES string of the product: \")\n",
    "    try:\n",
    "        template = predict_reaction(smiles_input)\n",
    "        print(f\"Predicted Reaction Template: {template}\")\n",
    "    except Exception as e:\n",
    "        print(f\"Error: {e}\")\n",
    "\n"
   ]
  },
  {
   "cell_type": "code",
   "execution_count": 7,
   "metadata": {},
   "outputs": [],
   "source": [
    "from rdkit import Chem\n",
    "from rdkit.Chem import Draw\n",
    "from rdkit.Chem import rdChemReactions\n",
    "\n",
    "# Reaction SMARTS (your template)\n",
    "reaction_smarts = \"[C:4]-[#8:5]-[C:6](=[O;D1;H0:7])-[c:8]1:[c:9]:[c:10]:[c:11]:[c:12]:[c:13]:1-[N;H0;D2;+0:14]=[C;H0;D3;+0:1](-[C;D1;H3:2])-[c:3]>>O=[C;H0;D3;+0:1](-[C;D1;H3:2])-[c:3].[C:4]-[#8:5]-[C:6](=[O;D1;H0:7])-[c:8]1:[c:9]:[c:10]:[c:11]:[c:12]:[c:13]:1-[NH2;D1;+0:14]\"\n",
    "\n",
    "# Create RDKit reaction object\n",
    "reaction = rdChemReactions.ReactionFromSmarts(reaction_smarts)\n",
    "\n",
    "# Draw the reaction\n",
    "img = Draw.ReactionToImage(reaction, subImgSize=(300, 300))\n",
    "\n",
    "# Display\n",
    "img.show()\n",
    "\n"
   ]
  }
 ],
 "metadata": {
  "kernelspec": {
   "display_name": "projet_chem",
   "language": "python",
   "name": "python3"
  },
  "language_info": {
   "codemirror_mode": {
    "name": "ipython",
    "version": 3
   },
   "file_extension": ".py",
   "mimetype": "text/x-python",
   "name": "python",
   "nbconvert_exporter": "python",
   "pygments_lexer": "ipython3",
   "version": "3.10.17"
  }
 },
 "nbformat": 4,
 "nbformat_minor": 2
}
